{
 "cells": [
  {
   "cell_type": "code",
   "execution_count": 1,
   "id": "36a2b7dc-3c65-4e73-99a6-647dce105549",
   "metadata": {},
   "outputs": [],
   "source": [
    "import turtle"
   ]
  },
  {
   "cell_type": "code",
   "execution_count": 2,
   "id": "cda36aa7-b495-42aa-9d4d-c14655efbb73",
   "metadata": {},
   "outputs": [],
   "source": [
    "turtle.Screen().bgcolor(\"Orange\")\n",
    "sc = turtle.Screen()\n",
    "sc.setup(1000, 600)\n",
    "turtle.title(\"Welcome to Turtle Window\")\n",
    "board = turtle.Turtle()"
   ]
  },
  {
   "cell_type": "code",
   "execution_count": 3,
   "id": "b09fde76-e7e1-4992-80c8-e19b73cc5c1e",
   "metadata": {},
   "outputs": [
    {
     "name": "stdin",
     "output_type": "stream",
     "text": [
      "enter no: of sides 200\n"
     ]
    }
   ],
   "source": [
    "sides= int(input(\"enter no: of sides\"))"
   ]
  },
  {
   "cell_type": "code",
   "execution_count": 4,
   "id": "cddaccab-4104-476f-b010-a1ff710ee66b",
   "metadata": {},
   "outputs": [],
   "source": [
    "for i in range(sides):\n",
    "    board.forward(1)\n",
    "    board.left(360/sides)\n",
    "turtle.done()"
   ]
  },
  {
   "cell_type": "code",
   "execution_count": null,
   "id": "3c62bc4e-ffc1-485c-b155-47fe2996518f",
   "metadata": {},
   "outputs": [],
   "source": []
  }
 ],
 "metadata": {
  "kernelspec": {
   "display_name": "Python 3 (ipykernel)",
   "language": "python",
   "name": "python3"
  },
  "language_info": {
   "codemirror_mode": {
    "name": "ipython",
    "version": 3
   },
   "file_extension": ".py",
   "mimetype": "text/x-python",
   "name": "python",
   "nbconvert_exporter": "python",
   "pygments_lexer": "ipython3",
   "version": "3.12.4"
  }
 },
 "nbformat": 4,
 "nbformat_minor": 5
}
